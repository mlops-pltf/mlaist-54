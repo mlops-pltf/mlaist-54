{
 "cells": [
  {
   "cell_type": "markdown",
   "id": "8dd53555",
   "metadata": {},
   "source": [
    "### Setup langfuse tracing"
   ]
  },
  {
   "cell_type": "code",
   "execution_count": null,
   "id": "2c319cf6",
   "metadata": {},
   "outputs": [],
   "source": [
    "from my_utils import setup_langfuse_tracer, hf_login\n",
    "setup_langfuse_tracer()\n",
    "hf_login()"
   ]
  },
  {
   "cell_type": "markdown",
   "id": "598858e1",
   "metadata": {},
   "source": [
    "### My LLM - To act as brain of all the below Agents"
   ]
  },
  {
   "cell_type": "code",
   "execution_count": null,
   "id": "9f337776",
   "metadata": {},
   "outputs": [],
   "source": [
    "from smolagents import LiteLLMModel\n",
    "from my_config import MyConfig\n",
    "\n",
    "my_config = MyConfig()\n",
    "\n",
    "remote_url = f\"http://{my_config.OLLAMA_INFERENCE_NODE_IP}:11434\"\n",
    "model = LiteLLMModel(\n",
    "    base_url=remote_url\n",
    "    , model_id='ollama/qwen2.5-coder:7b'\n",
    "    # , model_id='ollama/llama3.2:latest'\n",
    ")"
   ]
  },
  {
   "cell_type": "markdown",
   "id": "42b5c529",
   "metadata": {},
   "source": [
    "### Basic Retrieval with DuckDuckGo"
   ]
  },
  {
   "cell_type": "code",
   "execution_count": null,
   "id": "068f6e94",
   "metadata": {},
   "outputs": [],
   "source": [
    "from smolagents import CodeAgent, DuckDuckGoSearchTool, FinalAnswerTool\n",
    "\n",
    "# Initialize the search tool\n",
    "search_tool = DuckDuckGoSearchTool()\n",
    "agent = CodeAgent(\n",
    "    model=model,\n",
    "    tools=[\n",
    "        search_tool,\n",
    "        FinalAnswerTool()\n",
    "    ],\n",
    "    model=model,\n",
    "    max_steps=5,\n",
    "    verbosity_level=2\n",
    ")\n",
    "\n",
    "# Example usage\n",
    "response = agent.run(\n",
    "    \"Search for luxury superhero-themed party ideas, including decorations, entertainment, and catering.\"\n",
    ")\n",
    "print(response)"
   ]
  },
  {
   "cell_type": "markdown",
   "id": "5011999a",
   "metadata": {},
   "source": [
    "### Custom Knowledge Base Tool"
   ]
  },
  {
   "cell_type": "markdown",
   "id": "dd6944c2",
   "metadata": {},
   "source": [
    "#### Simulate Knowledge base"
   ]
  },
  {
   "cell_type": "code",
   "execution_count": null,
   "id": "445732bb",
   "metadata": {},
   "outputs": [],
   "source": [
    "from langchain.docstore.document import Document\n",
    "from langchain.text_splitter import RecursiveCharacterTextSplitter\n",
    "from my_tools import PartyPlanningRetrieverTool\n",
    "# Simulate a knowledge base about party planning\n",
    "party_ideas = [\n",
    "    {\"text\": \"A superhero-themed masquerade ball with luxury decor, including gold accents and velvet curtains.\", \"source\": \"Party Ideas 1\"},\n",
    "    {\"text\": \"Hire a professional DJ who can play themed music for superheroes like Batman and Wonder Woman.\", \"source\": \"Entertainment Ideas\"},\n",
    "    {\"text\": \"For catering, serve dishes named after superheroes, like 'The Hulk's Green Smoothie' and 'Iron Man's Power Steak.'\", \"source\": \"Catering Ideas\"},\n",
    "    {\"text\": \"Decorate with iconic superhero logos and projections of Gotham and other superhero cities around the venue.\", \"source\": \"Decoration Ideas\"},\n",
    "    {\"text\": \"Interactive experiences with VR where guests can engage in superhero simulations or compete in themed games.\", \"source\": \"Entertainment Ideas\"}\n",
    "]\n",
    "\n",
    "source_docs = [\n",
    "    Document(page_content=doc[\"text\"], metadata={\"source\": doc[\"source\"]})\n",
    "    for doc in party_ideas\n",
    "]\n",
    "\n",
    "# Split the documents into smaller chunks for more efficient search\n",
    "text_splitter = RecursiveCharacterTextSplitter(\n",
    "    chunk_size=500,\n",
    "    chunk_overlap=50,\n",
    "    add_start_index=True,\n",
    "    strip_whitespace=True,\n",
    "    separators=[\"\\n\\n\", \"\\n\", \".\", \" \", \"\"],\n",
    ")\n",
    "docs_processed = text_splitter.split_documents(source_docs)\n",
    "\n",
    "# Create the retriever tool\n",
    "party_planning_retriever = PartyPlanningRetrieverTool(docs_processed)"
   ]
  },
  {
   "cell_type": "markdown",
   "id": "c1e94aa7",
   "metadata": {},
   "source": [
    "#### Retrieval agent"
   ]
  },
  {
   "cell_type": "code",
   "execution_count": null,
   "id": "e2ab453b",
   "metadata": {},
   "outputs": [],
   "source": [
    "from smolagents import CodeAgent, FinalAnswerTool\n",
    "\n",
    "\n",
    "# Initialize the agent\n",
    "agent = CodeAgent(\n",
    "    tools=[\n",
    "        party_planning_retriever\n",
    "        , FinalAnswerTool()\n",
    "    ]\n",
    "    , model=model\n",
    "    , max_steps=5\n",
    "    , verbosity_level=2\n",
    ")\n",
    "\n",
    "# Example usage\n",
    "response = agent.run(\n",
    "    \"Find ideas for a luxury superhero-themed party, including entertainment, catering, and decoration options.\"\n",
    ")\n",
    "\n",
    "print(response)"
   ]
  },
  {
   "cell_type": "code",
   "execution_count": null,
   "id": "e098d9d3",
   "metadata": {},
   "outputs": [],
   "source": []
  }
 ],
 "metadata": {
  "kernelspec": {
   "display_name": "Python 3",
   "language": "python",
   "name": "python3"
  },
  "language_info": {
   "codemirror_mode": {
    "name": "ipython",
    "version": 3
   },
   "file_extension": ".py",
   "mimetype": "text/x-python",
   "name": "python",
   "nbconvert_exporter": "python",
   "pygments_lexer": "ipython3",
   "version": "3.13.3"
  }
 },
 "nbformat": 4,
 "nbformat_minor": 5
}
