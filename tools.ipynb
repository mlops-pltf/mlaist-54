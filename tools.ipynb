{
 "cells": [
  {
   "cell_type": "markdown",
   "id": "8dd53555",
   "metadata": {},
   "source": [
    "### Setup langfuse tracing"
   ]
  },
  {
   "cell_type": "code",
   "execution_count": null,
   "id": "2c319cf6",
   "metadata": {},
   "outputs": [],
   "source": [
    "from my_utils import setup_langfuse_tracer, hf_login\n",
    "setup_langfuse_tracer()\n",
    "hf_login()"
   ]
  },
  {
   "cell_type": "markdown",
   "id": "598858e1",
   "metadata": {},
   "source": [
    "### My LLM - To act as brain of all the below Agents"
   ]
  },
  {
   "cell_type": "code",
   "execution_count": null,
   "id": "9f337776",
   "metadata": {},
   "outputs": [],
   "source": [
    "from smolagents import LiteLLMModel\n",
    "from my_config import MyConfig\n",
    "\n",
    "my_config = MyConfig()\n",
    "\n",
    "remote_url = F\"http://{my_config.OLLAMA_INFERENCE_NODE_IP}:11434\"\n",
    "model = LiteLLMModel(\n",
    "    base_url=remote_url\n",
    "    , model_id='ollama/qwen2.5-coder:7b'\n",
    "    # , model_id='ollama/llama3.2:latest'\n",
    ")"
   ]
  },
  {
   "cell_type": "markdown",
   "id": "42b5c529",
   "metadata": {},
   "source": [
    "### Start Building Agnents"
   ]
  },
  {
   "cell_type": "code",
   "execution_count": null,
   "id": "068f6e94",
   "metadata": {},
   "outputs": [],
   "source": [
    "from smolagents import CodeAgent, DuckDuckGoSearchTool, VisitWebpageTool, FinalAnswerTool\n",
    "from my_tools import suggest_menu, catering_service_tool, SuperheroPartyThemeTool\n",
    "# Alfred, the butler, preparing the menu for the party\n",
    "agent = CodeAgent(\n",
    "    tools=[\n",
    "        DuckDuckGoSearchTool(),\n",
    "        VisitWebpageTool(),\n",
    "        suggest_menu,\n",
    "        catering_service_tool,\n",
    "        SuperheroPartyThemeTool(),\n",
    "        FinalAnswerTool()\n",
    "    ],\n",
    "    model=model,\n",
    "    max_steps=5,\n",
    "    verbosity_level=2\n",
    ")\n"
   ]
  },
  {
   "cell_type": "code",
   "execution_count": null,
   "id": "30cf138f",
   "metadata": {},
   "outputs": [],
   "source": [
    "result = agent.run(\n",
    "    \"Can you give me the name of the highest-rated catering service in Gotham City?\"\n",
    ")\n",
    "print(result)"
   ]
  },
  {
   "cell_type": "code",
   "execution_count": null,
   "id": "e4900cde",
   "metadata": {},
   "outputs": [],
   "source": [
    "result = agent.run(\n",
    "    \"What would be a good superhero party idea for a 'villain masquerade' theme?\"\n",
    ")\n",
    "print(result)"
   ]
  },
  {
   "cell_type": "markdown",
   "id": "5011999a",
   "metadata": {},
   "source": [
    "### Importing a Tool from the Hub"
   ]
  },
  {
   "cell_type": "code",
   "execution_count": null,
   "id": "a9795563",
   "metadata": {},
   "outputs": [],
   "source": [
    "from smolagents import load_tool, CodeAgent\n",
    "\n",
    "image_generation_tool = load_tool(\n",
    "    \"m-ric/text-to-image\",\n",
    "    trust_remote_code=True\n",
    ")\n",
    "\n",
    "agent = CodeAgent(\n",
    "    tools=[image_generation_tool],\n",
    "    model=model\n",
    ")"
   ]
  },
  {
   "cell_type": "code",
   "execution_count": null,
   "id": "216c860b",
   "metadata": {},
   "outputs": [],
   "source": [
    "agent.run(\"Generate an image of a luxurious superhero-themed party at Wayne Manor with made-up superheros.\")"
   ]
  },
  {
   "cell_type": "markdown",
   "id": "98662ed6",
   "metadata": {},
   "source": [
    "### Importing a Hugging Face Space as a Tool\n",
    "You can also import a HF Space as a tool `using Tool.from_space()`. This opens up possibilities for integrating with thousands of spaces from the community for tasks from image generation to data analysis.\n",
    "\n",
    "The tool will connect with the spaces Gradio backend using the gradio_client, so make sure to install it via pip if you don’t have it already.\n",
    "\n",
    "For the party, Alfred can use an existing HF Space for the generation of the AI-generated image to be used in the announcement (instead of the pre-built tool we mentioned before). Let’s build it!\n"
   ]
  },
  {
   "cell_type": "code",
   "execution_count": null,
   "id": "29ded9be",
   "metadata": {},
   "outputs": [],
   "source": [
    "from smolagents import CodeAgent, Tool\n",
    "\n",
    "image_generation_tool = Tool.from_space(\n",
    "    \"black-forest-labs/FLUX.1-schnell\",\n",
    "    name=\"image_generator\",\n",
    "    description=\"Generate an image from a prompt\"\n",
    ")\n",
    "agent = CodeAgent(tools=[image_generation_tool], model=model)"
   ]
  },
  {
   "cell_type": "code",
   "execution_count": null,
   "id": "efd1b086",
   "metadata": {},
   "outputs": [],
   "source": [
    "agent.run(\n",
    "    \"Improve this prompt, then generate an image of it.\",\n",
    "    additional_args={'user_prompt': 'A grand superhero-themed party at Wayne Manor, with Alfred overseeing a luxurious gala'}\n",
    ")"
   ]
  },
  {
   "cell_type": "markdown",
   "id": "85d22a5e",
   "metadata": {},
   "source": [
    "### Importing a LangChain Tool\n",
    "We’ll discuss the LangChain framework in upcoming sections. For now, we just note that we can reuse LangChain tools in your smolagents workflow!\n",
    "\n",
    "You can easily load LangChain tools using the `Tool.from_langchain()` method. Alfred, ever the perfectionist, is preparing for a spectacular superhero night at Wayne Manor while the Waynes are away. To make sure every detail exceeds expectations, he taps into LangChain tools to find top-tier entertainment ideas.\n",
    "\n",
    "By using `Tool.from_langchain()`, Alfred effortlessly adds advanced search functionalities to his smolagent, enabling him to discover exclusive party ideas and services with just a few commands.\n",
    "\n",
    "Here’s how he does it:"
   ]
  },
  {
   "cell_type": "code",
   "execution_count": null,
   "id": "7a01dc0d",
   "metadata": {},
   "outputs": [],
   "source": [
    "import os\n",
    "from langchain.agents import load_tools\n",
    "from smolagents import CodeAgent, Tool\n",
    "\n",
    "os.environ['SERPAPI_API_KEY'] = my_config.SERPAPI_API_KEY\n",
    "search_tool = Tool.from_langchain(load_tools([\"serpapi\"])[0])\n",
    "agent = CodeAgent(tools=[search_tool], model=model)"
   ]
  },
  {
   "cell_type": "code",
   "execution_count": null,
   "id": "03328b2e",
   "metadata": {},
   "outputs": [],
   "source": [
    "agent.run(\"Search for luxury entertainment ideas for a superhero-themed event, such as live performances and interactive experiences.\")"
   ]
  },
  {
   "cell_type": "code",
   "execution_count": null,
   "id": "a6a6e2e0",
   "metadata": {},
   "outputs": [],
   "source": []
  }
 ],
 "metadata": {
  "kernelspec": {
   "display_name": "Python 3",
   "language": "python",
   "name": "python3"
  },
  "language_info": {
   "codemirror_mode": {
    "name": "ipython",
    "version": 3
   },
   "file_extension": ".py",
   "mimetype": "text/x-python",
   "name": "python",
   "nbconvert_exporter": "python",
   "pygments_lexer": "ipython3",
   "version": "3.13.3"
  }
 },
 "nbformat": 4,
 "nbformat_minor": 5
}
