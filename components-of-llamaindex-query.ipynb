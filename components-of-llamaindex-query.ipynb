{
 "cells": [
  {
   "cell_type": "markdown",
   "id": "708b5568",
   "metadata": {},
   "source": [
    "## Use a `QueryEngine` for retrieval augmented generation"
   ]
  },
  {
   "cell_type": "markdown",
   "id": "3dd5f3b6",
   "metadata": {},
   "source": [
    "### Set up the environemnt first"
   ]
  },
  {
   "cell_type": "code",
   "execution_count": 1,
   "id": "686fb7de",
   "metadata": {},
   "outputs": [],
   "source": [
    "!pip install -q -r requirements.txt"
   ]
  },
  {
   "cell_type": "code",
   "execution_count": 2,
   "id": "98b2b11d",
   "metadata": {},
   "outputs": [],
   "source": [
    "from my_config import MyConfig\n",
    "my_config = MyConfig()"
   ]
  },
  {
   "cell_type": "markdown",
   "id": "c42c0804-bfe0-4b7d-9bc1-216a6b8c349b",
   "metadata": {},
   "source": [
    "### Get the Vector Store and Create Index to Query"
   ]
  },
  {
   "cell_type": "code",
   "execution_count": 3,
   "id": "507a3719-d960-4e53-a38c-b8aec50e655b",
   "metadata": {},
   "outputs": [
    {
     "name": "stderr",
     "output_type": "stream",
     "text": [
      "/Users/potter/Documents/MLArena/MLOps-Platform-Project/Hands-On/hfagnt-2-2-the-llamaindex-framework/.venv/lib/python3.9/site-packages/urllib3/__init__.py:35: NotOpenSSLWarning: urllib3 v2 only supports OpenSSL 1.1.1+, currently the 'ssl' module is compiled with 'LibreSSL 2.8.3'. See: https://github.com/urllib3/urllib3/issues/3020\n",
      "  warnings.warn(\n"
     ]
    }
   ],
   "source": [
    "import chromadb\n",
    "from llama_index.vector_stores.chroma import ChromaVectorStore\n",
    "\n",
    "db = chromadb.PersistentClient(path=\"./alfred_chroma_db\")\n",
    "chroma_collection = db.get_or_create_collection(name=\"alfred\")\n",
    "vector_store = ChromaVectorStore(chroma_collection=chroma_collection)"
   ]
  },
  {
   "cell_type": "code",
   "execution_count": 4,
   "id": "237cde77",
   "metadata": {},
   "outputs": [],
   "source": [
    "from my_utils import RunPodEmbedding\n",
    "from llama_index.core import VectorStoreIndex\n",
    "\n",
    "# Instantiate custom class with your RunPod URL\n",
    "runpod_url = f\"https://{my_config.VLLM_EMBEDDING_MODEL_INFERENCE_NODE_IP}-8000.proxy.runpod.net/v1/embeddings\"\n",
    "embedding_model = RunPodEmbedding(endpoint_url=runpod_url)\n",
    "# embed_model = HuggingFaceEmbedding(model_name=\"BAAI/bge-small-en-v1.5\")\n",
    "index = VectorStoreIndex.from_vector_store(\n",
    "    vector_store=vector_store, embed_model=embedding_model\n",
    ")"
   ]
  },
  {
   "cell_type": "markdown",
   "id": "485a8d33",
   "metadata": {},
   "source": [
    "We don't need to worry about persisting the index to disk, as it is automatically saved within the `ChromaVectorStore` object and the passed directory path.\n",
    "\n",
    "### Querying the index\n",
    "Now that we have our index, we can use it to query the documents. Let's create a `QueryEngine` from the index and use it to query the documents using a specific response mode."
   ]
  },
  {
   "cell_type": "code",
   "execution_count": 5,
   "id": "449aba9a",
   "metadata": {},
   "outputs": [],
   "source": [
    "from my_utils import RunPodQwenLLM\n",
    "model_id=\"Qwen/Qwen2.5-Coder-7B-Instruct\"\n",
    "vllm_api_base = f\"https://{my_config.VLLM_LLM_INFERENCE_NODE_IP}-8000.proxy.runpod.net/v1/chat/completions\"\n",
    "llm = RunPodQwenLLM(api_url=vllm_api_base, overriden_model_name=model_id)"
   ]
  },
  {
   "cell_type": "code",
   "execution_count": 6,
   "id": "94d549bd",
   "metadata": {},
   "outputs": [],
   "source": [
    "query_engine = index.as_query_engine(\n",
    "    llm=llm,\n",
    "    response_mode=\"tree_summarize\",\n",
    ")"
   ]
  },
  {
   "cell_type": "code",
   "execution_count": null,
   "id": "a230a420",
   "metadata": {},
   "outputs": [
    {
     "data": {
      "text/plain": [
       "Response(response=\"Persona 1:\\nName: Emma\\nOccupation: History and Culture Writer\\nLocation: Global Explorer\\nEmma is an avid traveler and writer passionate about sharing historical and cultural insights with a general audience. She frequently visits ancient sites, markets, and local communities to capture their essence and share it through her blog posts. With a keen eye for detail and a knack for storytelling, Emma aims to make complex historical events accessible and engaging for readers.\\n\\nPersona 2:\\nName: Alex\\nOccupation: Travel Blogger\\nSpecialization: Cultural Exploration and Language\\nCurrent Location: Eastern Europe\\nAlex is a travel blogger with a particular focus on Eastern European culture and history. He has a strong background in linguistics and uses his skills to immerse himself in the local languages and customs of the regions he visits. Alex's goal is to bridge the gap between Western and Eastern cultures through his blog, making it easier for readers to understand and appreciate the rich tapestry of Eastern European heritage.\", source_nodes=[NodeWithScore(node=TextNode(id_='c094bf3b-94ec-44a6-b37b-9be9fdb18157', embedding=None, metadata={'file_path': '/Users/potter/Documents/MLArena/MLOps-Platform-Project/Hands-On/hfagnt-2-2-the-llamaindex-framework/data/persona_4257.txt', 'file_name': 'persona_4257.txt', 'file_type': 'text/plain', 'file_size': 161, 'creation_date': '2025-06-13', 'last_modified_date': '2025-06-13'}, excluded_embed_metadata_keys=['file_name', 'file_type', 'file_size', 'creation_date', 'last_modified_date', 'last_accessed_date'], excluded_llm_metadata_keys=['file_name', 'file_type', 'file_size', 'creation_date', 'last_modified_date', 'last_accessed_date'], relationships={<NodeRelationship.SOURCE: '1'>: RelatedNodeInfo(node_id='b9928863-626e-4620-9e41-4c8ce6e8ac3d', node_type='4', metadata={'file_path': '/Users/potter/Documents/MLArena/MLOps-Platform-Project/Hands-On/hfagnt-2-2-the-llamaindex-framework/data/persona_4257.txt', 'file_name': 'persona_4257.txt', 'file_type': 'text/plain', 'file_size': 161, 'creation_date': '2025-06-13', 'last_modified_date': '2025-06-13'}, hash='377631d00b73900b4269cd7f89101c079dd5edbe49c71be09a1af0990a77bee6')}, metadata_template='{key}: {value}', metadata_separator='\\n', text='A history or travel enthusiast who writes for general audiences, likely a content creator or blogger focused on cultural or archaeological sites and attractions.', mimetype='text/plain', start_char_idx=0, end_char_idx=161, metadata_seperator='\\n', text_template='{metadata_str}\\n\\n{content}'), score=0.5975514618523514), NodeWithScore(node=TextNode(id_='aad7cd86-aee2-4f03-a3ac-c95d7cbf67f1', embedding=None, metadata={'file_path': '/Users/potter/Documents/MLArena/MLOps-Platform-Project/Hands-On/hfagnt-2-2-the-llamaindex-framework/data/persona_783.txt', 'file_name': 'persona_783.txt', 'file_type': 'text/plain', 'file_size': 160, 'creation_date': '2025-06-13', 'last_modified_date': '2025-06-13'}, excluded_embed_metadata_keys=['file_name', 'file_type', 'file_size', 'creation_date', 'last_modified_date', 'last_accessed_date'], excluded_llm_metadata_keys=['file_name', 'file_type', 'file_size', 'creation_date', 'last_modified_date', 'last_accessed_date'], relationships={<NodeRelationship.SOURCE: '1'>: RelatedNodeInfo(node_id='f553d6d9-3564-4e02-8058-d0bb71202055', node_type='4', metadata={'file_path': '/Users/potter/Documents/MLArena/MLOps-Platform-Project/Hands-On/hfagnt-2-2-the-llamaindex-framework/data/persona_783.txt', 'file_name': 'persona_783.txt', 'file_type': 'text/plain', 'file_size': 160, 'creation_date': '2025-06-13', 'last_modified_date': '2025-06-13'}, hash='02e7b960448167cc19f82fcc8bb93ddde74bf3063550308b83c7ef68a4364045')}, metadata_template='{key}: {value}', metadata_separator='\\n', text='A travel blogger focused on cultural exploration and language, likely with an interest in Eastern European history and a background in linguistics or education.', mimetype='text/plain', start_char_idx=0, end_char_idx=160, metadata_seperator='\\n', text_template='{metadata_str}\\n\\n{content}'), score=0.5803141765295157)], metadata={'c094bf3b-94ec-44a6-b37b-9be9fdb18157': {'file_path': '/Users/potter/Documents/MLArena/MLOps-Platform-Project/Hands-On/hfagnt-2-2-the-llamaindex-framework/data/persona_4257.txt', 'file_name': 'persona_4257.txt', 'file_type': 'text/plain', 'file_size': 161, 'creation_date': '2025-06-13', 'last_modified_date': '2025-06-13'}, 'aad7cd86-aee2-4f03-a3ac-c95d7cbf67f1': {'file_path': '/Users/potter/Documents/MLArena/MLOps-Platform-Project/Hands-On/hfagnt-2-2-the-llamaindex-framework/data/persona_783.txt', 'file_name': 'persona_783.txt', 'file_type': 'text/plain', 'file_size': 160, 'creation_date': '2025-06-13', 'last_modified_date': '2025-06-13'}})"
      ]
     },
     "execution_count": 7,
     "metadata": {},
     "output_type": "execute_result"
    }
   ],
   "source": [
    "response = await query_engine.aquery(\n",
    "    \"Respond using a persona that describes author and travel experiences?\"\n",
    ")"
   ]
  },
  {
   "cell_type": "code",
   "execution_count": 14,
   "id": "b5fcd7ca",
   "metadata": {},
   "outputs": [],
   "source": [
    "with open('output/output.out', 'w') as f:\n",
    "    f.write(response.response)"
   ]
  },
  {
   "cell_type": "code",
   "execution_count": null,
   "id": "f236666a",
   "metadata": {},
   "outputs": [],
   "source": []
  }
 ],
 "metadata": {
  "kernelspec": {
   "display_name": ".venv",
   "language": "python",
   "name": "python3"
  },
  "language_info": {
   "codemirror_mode": {
    "name": "ipython",
    "version": 3
   },
   "file_extension": ".py",
   "mimetype": "text/x-python",
   "name": "python",
   "nbconvert_exporter": "python",
   "pygments_lexer": "ipython3",
   "version": "3.9.6"
  }
 },
 "nbformat": 4,
 "nbformat_minor": 5
}
