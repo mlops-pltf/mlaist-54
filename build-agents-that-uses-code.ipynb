{
 "cells": [
  {
   "cell_type": "markdown",
   "id": "0c5127f8",
   "metadata": {},
   "source": [
    "## Make sure the Ollama Served model is accessible"
   ]
  },
  {
   "cell_type": "code",
   "execution_count": null,
   "id": "9eedcf9b",
   "metadata": {},
   "outputs": [],
   "source": [
    "from smolagents import CodeAgent, DuckDuckGoSearchTool, LiteLLMModel"
   ]
  },
  {
   "cell_type": "code",
   "execution_count": null,
   "id": "60dcb282",
   "metadata": {},
   "outputs": [],
   "source": [
    "remote_url = \"http://{}:11434\"\n",
    "model = LiteLLMModel(\n",
    "    base_url=remote_url\n",
    "    , model_id='ollama/qwen2.5-coder:7b'\n",
    "    # , model_id='ollama/llama3.2:latest'\n",
    ")"
   ]
  },
  {
   "cell_type": "code",
   "execution_count": null,
   "id": "dc94a4ae",
   "metadata": {},
   "outputs": [],
   "source": [
    "agent = CodeAgent(tools=[DuckDuckGoSearchTool()], model=model)"
   ]
  },
  {
   "cell_type": "code",
   "execution_count": null,
   "id": "e33e5515",
   "metadata": {},
   "outputs": [],
   "source": [
    "agent.run(\"Search for the best music recommendations for a party at the Wayne's mansion.\")"
   ]
  },
  {
   "cell_type": "markdown",
   "id": "29cb037e",
   "metadata": {},
   "source": [
    "## Using a Custom Tool to Prepare the Menu\n",
    "Now that we have selected a playlist, we need to organize the menu for the guests. Again, Alfred can take advantage of smolagents to do so. Here, we use the `@tool` decorator to define a custom function that acts as a tool. We'll cover tool creation in more detail later, so for now, we can simply run the code.\n",
    "\n",
    "As you can see in the example below, we will create a tool using `@tool` decorator and include it in the tools list."
   ]
  },
  {
   "cell_type": "code",
   "execution_count": null,
   "id": "536cf2f2",
   "metadata": {},
   "outputs": [],
   "source": [
    "from smolagents import CodeAgent, tool\n",
    "\n",
    "@tool\n",
    "def suggest_menu(occasion: str) -> str:\n",
    "    \"\"\"\n",
    "    Suggests a menu based on the occasion.\n",
    "    Args:\n",
    "        occasion: The type of occasion for the party.\n",
    "    \"\"\"\n",
    "    if \"casual\" in occasion.lower():\n",
    "        return \"Pizza, snacks, and drinks.\"\n",
    "    elif \"formal\" in occasion.lower():\n",
    "        return \"3-course dinner with wine and dessert.\"\n",
    "    elif \"superhero\" in occasion.lower():\n",
    "        return \"Buffet with high-energy and healthy food.\"\n",
    "    else:\n",
    "        return \"Custom menu for the butler.\"\n",
    "\n",
    "menu_agent = CodeAgent(tools=[suggest_menu], model=model)"
   ]
  },
  {
   "cell_type": "code",
   "execution_count": null,
   "id": "06079ae6",
   "metadata": {},
   "outputs": [],
   "source": [
    "menu_agent.run(\"Prepare a formal menu for the party.\")"
   ]
  },
  {
   "cell_type": "markdown",
   "id": "7daddf6f",
   "metadata": {},
   "source": [
    "## Using Python Imports Inside the Agent\n",
    "We have the playlist and menu ready, but we need to check one more crucial detail: preparation time!\n",
    "\n",
    "Alfred needs to calculate when everything would be ready if he started preparing now, in case they need assistance from other superheroes.\n",
    "\n",
    "`smolagents` specializes in agents that write and execute Python code snippets, offering sandboxed execution for security. It supports both open-source and proprietary language models, making it adaptable to various development environments.\n",
    "\n",
    "Code execution has strict security measures - imports outside a predefined safe list are blocked by default. However, you can authorize additional imports by passing them as strings in `additional_authorized_imports`. For more details on secure code execution, see the official [guide](https://huggingface.co/docs/smolagents/tutorials/secure_code_execution).\n",
    "\n",
    "When creating the agent, we ill use `additional_authorized_imports` to allow for importing the `datetime` module."
   ]
  },
  {
   "cell_type": "code",
   "execution_count": null,
   "id": "1b968789",
   "metadata": {},
   "outputs": [],
   "source": [
    "from smolagents import CodeAgent\n",
    "# import numpy as np\n",
    "# import time\n",
    "# import datetime\n",
    "\n",
    "agent = CodeAgent(tools=[], model=model, additional_authorized_imports=['datetime'])\n",
    "\n",
    "agent.run(\n",
    "    \"\"\"\n",
    "    Alfred needs to prepare for the party. Here are the tasks:\n",
    "    1. Prepare the drinks - 30 minutes\n",
    "    2. Decorate the mansion - 60 minutes\n",
    "    3. Set up the menu - 45 minutes\n",
    "    3. Prepare the music and playlist - 45 minutes\n",
    "\n",
    "    If we start right now, at what time will the party be ready?\n",
    "    \"\"\"\n",
    ")"
   ]
  },
  {
   "cell_type": "markdown",
   "id": "7cc9c16b",
   "metadata": {},
   "source": [
    "These examples are just the beginning of what you can do with code agents, and we're already starting to see their utility for preparing the party. You can learn more about how to build code agents in the [smolagents documentation](https://huggingface.co/docs/smolagents).\n",
    "\n",
    "`smolagents` specializes in agents that write and execute Python code snippets, offering sandboxed execution for security. It supports both open-source and proprietary language models, making it adaptable to various development environments."
   ]
  },
  {
   "cell_type": "markdown",
   "id": "96e6301a",
   "metadata": {},
   "source": [
    "## Sharing Our Custom Party Preparator Agent to the Hub\n",
    "\n",
    "Wouldn't it be amazing to share our very own Alfred agent with the community? By doing so, anyone can easily download and use the agent directly from the Hub, bringing the ultimate party planner of Gotham to their fingertips! Let's make it happen! 🎉\n",
    "\n",
    "The `smolagents` library makes this possible by allowing you to share a complete agent with the community and download others for immediate use. It's as simple as the following:"
   ]
  },
  {
   "cell_type": "code",
   "execution_count": null,
   "id": "29652d53",
   "metadata": {},
   "outputs": [],
   "source": [
    "from smolagents import CodeAgent, DuckDuckGoSearchTool, VisitWebpageTool, FinalAnswerTool\n",
    "from my_tools import suggest_menu, catering_service_tool, SuperheroPartyThemeTool\n",
    "# Alfred, the butler, preparing the menu for the party\n",
    "agent = CodeAgent(\n",
    "    tools=[\n",
    "        DuckDuckGoSearchTool(),\n",
    "        VisitWebpageTool(),\n",
    "        suggest_menu,\n",
    "        catering_service_tool,\n",
    "        SuperheroPartyThemeTool(),\n",
    "        FinalAnswerTool()\n",
    "        ],\n",
    "    model=model,\n",
    "    max_steps=10,\n",
    "    verbosity_level=2\n",
    ")\n",
    "agent.run(\"\"\"\n",
    "    Give me theh best list songs for a party at the Wayne's mansion. The party idea is a 'villain masquerade' theme.\n",
    "    The output should be a list of song names and artists.\n",
    "\"\"\")\n"
   ]
  },
  {
   "cell_type": "markdown",
   "id": "53626819",
   "metadata": {},
   "source": [
    "### Now we can push this agent to huggingface hub to share accross"
   ]
  },
  {
   "cell_type": "code",
   "execution_count": null,
   "id": "fd0303b5",
   "metadata": {},
   "outputs": [],
   "source": [
    "from huggingface_hub import login\n",
    "login(token=\"\")"
   ]
  },
  {
   "cell_type": "code",
   "execution_count": null,
   "id": "28ef7de0",
   "metadata": {},
   "outputs": [],
   "source": [
    "for tool in agent.tools:\n",
    "    print(tool)\n",
    "    # print(tool.code)  # or tool.to_dict()[\"code\"]\n"
   ]
  },
  {
   "cell_type": "code",
   "execution_count": null,
   "id": "8a6428b8",
   "metadata": {},
   "outputs": [],
   "source": [
    "agent.push_to_hub('mlops-pltf/AlfredAgent')"
   ]
  },
  {
   "cell_type": "markdown",
   "id": "a8d39714",
   "metadata": {},
   "source": [
    "### To reuse the agent:"
   ]
  },
  {
   "cell_type": "code",
   "execution_count": null,
   "id": "cab0d4d9",
   "metadata": {},
   "outputs": [],
   "source": [
    "agent = CodeAgent(tools=[], model=model)\n",
    "alfred_agent = agent.from_hub('mlops-pltf/AlfredAgent', trust_remote_code=True)"
   ]
  },
  {
   "cell_type": "code",
   "execution_count": null,
   "id": "563a85fb",
   "metadata": {},
   "outputs": [],
   "source": [
    "alfred_agent.run(\"Give me best playlist for a party at the Wayne's mansion. The party idea is a 'classic heroes' theme\")"
   ]
  }
 ],
 "metadata": {
  "kernelspec": {
   "display_name": "venv",
   "language": "python",
   "name": "python3"
  },
  "language_info": {
   "codemirror_mode": {
    "name": "ipython",
    "version": 3
   },
   "file_extension": ".py",
   "mimetype": "text/x-python",
   "name": "python",
   "nbconvert_exporter": "python",
   "pygments_lexer": "ipython3",
   "version": "3.13.3"
  }
 },
 "nbformat": 4,
 "nbformat_minor": 5
}
