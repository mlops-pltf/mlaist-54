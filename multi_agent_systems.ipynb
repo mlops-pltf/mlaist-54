{
 "cells": [
  {
   "cell_type": "markdown",
   "id": "8dd53555",
   "metadata": {},
   "source": [
    "### Install required packages"
   ]
  },
  {
   "cell_type": "code",
   "execution_count": null,
   "id": "7273c324",
   "metadata": {
    "vscode": {
     "languageId": "powershell"
    }
   },
   "outputs": [],
   "source": [
    "# pip install 'smolagents[litellm]' plotly geopandas shapely kaleido -q"
   ]
  },
  {
   "cell_type": "markdown",
   "id": "890c8189",
   "metadata": {},
   "source": [
    "### Setup Langfuse Tracing"
   ]
  },
  {
   "cell_type": "code",
   "execution_count": null,
   "id": "2c319cf6",
   "metadata": {},
   "outputs": [],
   "source": [
    "from my_utils import setup_langfuse_tracer, hf_login\n",
    "setup_langfuse_tracer()\n",
    "hf_login()"
   ]
  },
  {
   "cell_type": "markdown",
   "id": "598858e1",
   "metadata": {},
   "source": [
    "### My LLM - To act as brain of all the below Agents"
   ]
  },
  {
   "cell_type": "code",
   "execution_count": null,
   "id": "9f337776",
   "metadata": {},
   "outputs": [],
   "source": [
    "from smolagents import LiteLLMModel\n",
    "from my_config import MyConfig\n",
    "\n",
    "my_config = MyConfig()\n",
    "\n",
    "# remote_url = f\"http://{my_config.OLLAMA_INFERENCE_NODE_IP}:11434\"\n",
    "remote_url = f\"https://{my_config.OLLAMA_INFERENCE_RUNPOD_ID}-11434.proxy.runpod.net\"\n",
    "model = LiteLLMModel(\n",
    "    base_url=remote_url\n",
    "    , model_id='ollama/deepseek-coder-v2:16b'\n",
    "    , max_tokens=8096\n",
    ")\n",
    "multimodal_model = LiteLLMModel(\n",
    "    base_url=remote_url\n",
    "    , model_id='ollama/gemma3:12b'\n",
    "    , max_tokens=8096\n",
    ")\n",
    "manager_model = LiteLLMModel(\n",
    "    base_url=remote_url\n",
    "    # , model_id='ollama/deepseek-r1:14b'\n",
    "    , model_id='ollama/qwen3:30b'\n",
    "    , max_tokens=8096\n",
    ")"
   ]
  },
  {
   "cell_type": "code",
   "execution_count": null,
   "id": "966f77ed",
   "metadata": {},
   "outputs": [],
   "source": [
    "print(remote_url)"
   ]
  },
  {
   "cell_type": "markdown",
   "id": "42b5c529",
   "metadata": {},
   "source": [
    "### Setting up single agent"
   ]
  },
  {
   "cell_type": "code",
   "execution_count": null,
   "id": "068f6e94",
   "metadata": {},
   "outputs": [],
   "source": [
    "import os\n",
    "# from langchain.agents import load_tools\n",
    "from my_tools import calculate_cargo_travel_time\n",
    "from smolagents import CodeAgent, GoogleSearchTool, VisitWebpageTool#, Tool\n",
    "\n",
    "os.environ[\"SERPER_API_KEY\"] = my_config.SERPER_API_KEY\n",
    "os.environ[\"SERPAPI_API_KEY\"] = my_config.SERPAPI_API_KEY\n",
    "\n",
    "task = \"\"\"Find all Batman filming locations in the world, calculate the time to transfer via cargo plane to here (we're in Gotham, 40.7128° N, 74.0060° W), and return them to me as a pandas dataframe.\n",
    "Also give me some supercar factories with the same cargo plane transfer time.\"\"\"\n",
    "\n",
    "# search_tool = Tool.from_langchain(load_tools([\"serpapi\"])[0])\n",
    "# Initialize the search tool\n",
    "agent = CodeAgent(\n",
    "    model=model,\n",
    "    tools=[\n",
    "        # search_tool\n",
    "        GoogleSearchTool(\"serper\")\n",
    "        , VisitWebpageTool()\n",
    "        , calculate_cargo_travel_time\n",
    "    ],\n",
    "    additional_authorized_imports=[\"pandas\", \"urllib.request\", \"bs4\", \"requests\", \"geopy.distance\", \"os\"],\n",
    "    max_steps=15,\n",
    ")"
   ]
  },
  {
   "cell_type": "code",
   "execution_count": null,
   "id": "25faca7b",
   "metadata": {},
   "outputs": [],
   "source": [
    "agent.planning_interval = 4\n",
    "\n",
    "detailed_report = agent.run(f\"\"\"\n",
    "You're an expert analyst. You make comprehensive reports after visiting many websites.\n",
    "Don't hesitate to search for many queries at once in a for loop.\n",
    "For each data point that you find, visit the source url to confirm numbers.\n",
    "\n",
    "{task}\n",
    "\"\"\")"
   ]
  },
  {
   "cell_type": "code",
   "execution_count": null,
   "id": "f3e60747",
   "metadata": {},
   "outputs": [],
   "source": [
    "detailed_report"
   ]
  },
  {
   "cell_type": "markdown",
   "id": "905140ce",
   "metadata": {},
   "source": [
    "### ✌️ Splitting the task between two agents"
   ]
  },
  {
   "cell_type": "markdown",
   "id": "48c79989",
   "metadata": {},
   "source": [
    "Multi-agent structures allow to separate memories between different sub-tasks, with two great benefits:\n",
    "\n",
    "- Each agent is more focused on its core task, thus more performant\n",
    "- Separating memories reduces the count of input tokens at each step, thus reducing latency and cost.\n",
    "\n",
    "Let’s create a team with a dedicated web search agent, managed by another agent.\n",
    "\n",
    "The manager agent should have plotting capabilities to write its final report: so let us give it access to additional imports, including plotly, and geopandas + shapely for spatial plotting."
   ]
  },
  {
   "cell_type": "code",
   "execution_count": null,
   "id": "67ef1209",
   "metadata": {},
   "outputs": [],
   "source": [
    "import os\n",
    "# from langchain.agents import load_tools\n",
    "from my_tools import calculate_cargo_travel_time, calculate_car_travel_distance\n",
    "from smolagents import CodeAgent, GoogleSearchTool, VisitWebpageTool, FinalAnswerTool\n",
    "\n",
    "os.environ[\"SERPER_API_KEY\"] = my_config.SERPER_API_KEY\n",
    "os.environ[\"SERPAPI_API_KEY\"] = my_config.SERPAPI_API_KEY"
   ]
  },
  {
   "cell_type": "code",
   "execution_count": null,
   "id": "c87c12a9",
   "metadata": {},
   "outputs": [],
   "source": [
    "web_agent = CodeAgent(\n",
    "    model=model,\n",
    "    tools=[\n",
    "        GoogleSearchTool(provider=\"serper\"),\n",
    "        VisitWebpageTool(),\n",
    "        calculate_cargo_travel_time,\n",
    "        calculate_car_travel_distance\n",
    "    ],\n",
    "    name=\"web_agent\",\n",
    "    description=\"Browses the web to find information\",\n",
    "    verbosity_level=0,\n",
    "    max_steps=10,\n",
    "    additional_authorized_imports=[\n",
    "        \"geopandas\",\n",
    "        \"plotly\",\n",
    "        \"shapely\",\n",
    "        \"json\",\n",
    "        \"pandas\",\n",
    "        \"numpy\",\n",
    "        \"requests\",\n",
    "        \"bs4\"\n",
    "    ]\n",
    ")"
   ]
  },
  {
   "cell_type": "code",
   "execution_count": null,
   "id": "44e94691",
   "metadata": {},
   "outputs": [],
   "source": [
    "web_agent.visualize()"
   ]
  },
  {
   "cell_type": "code",
   "execution_count": null,
   "id": "971a029e",
   "metadata": {},
   "outputs": [],
   "source": [
    "from smolagents.utils import encode_image_base64, make_image_url\n",
    "# from smolagents import OpenAIServerModel\n",
    "\n",
    "\n",
    "def check_reasoning_and_plot(final_answer, agent_memory):\n",
    "    # multimodal_model = OpenAIServerModel(\"gpt-4o\", max_tokens=8096)\n",
    "    filepath = \"saved_map.png\"\n",
    "    assert os.path.exists(filepath), \"Make sure to save the plot under saved_map.png!\"\n",
    "    image = Image.open(filepath)\n",
    "    prompt = (\n",
    "        f\"Here is a user-given task and the agent steps: {agent_memory.get_succinct_steps()}. Now here is the plot that was made.\"\n",
    "        \"Please check that the reasoning process and plot are correct: do they correctly answer the given task?\"\n",
    "        \"First list reasons why yes/no, then write your final decision: PASS in caps lock if it is satisfactory, FAIL if it is not.\"\n",
    "        \"Don't be harsh: if the plot mostly solves the task, it should pass.\"\n",
    "        \"To pass, a plot should be made using px.scatter_map and not any other method (scatter_map looks nicer).\"\n",
    "    )\n",
    "    messages = [\n",
    "        {\n",
    "            \"role\": \"user\",\n",
    "            \"content\": [\n",
    "                {\n",
    "                    \"type\": \"text\",\n",
    "                    \"text\": prompt,\n",
    "                },\n",
    "                {\n",
    "                    \"type\": \"image_url\",\n",
    "                    \"image_url\": {\"url\": make_image_url(encode_image_base64(image))},\n",
    "                },\n",
    "            ],\n",
    "        }\n",
    "    ]\n",
    "    output = multimodal_model(messages).content\n",
    "    print(\"Feedback: \", output)\n",
    "    if \"FAIL\" in output:\n",
    "        raise Exception(output)\n",
    "    return True\n",
    "\n",
    "\n",
    "manager_agent = CodeAgent(\n",
    "    # model=InferenceClientModel(\"deepseek-ai/DeepSeek-R1\", provider=\"together\", max_tokens=8096),\n",
    "    model=manager_model,\n",
    "    tools=[\n",
    "        calculate_cargo_travel_time\n",
    "        , calculate_car_travel_distance\n",
    "        , FinalAnswerTool()\n",
    "    ],\n",
    "    managed_agents=[web_agent],\n",
    "    additional_authorized_imports=[\n",
    "        \"geopandas\",\n",
    "        \"plotly\",\n",
    "        \"shapely\",\n",
    "        \"json\",\n",
    "        \"pandas\",\n",
    "        \"numpy\",\n",
    "        \"requests\",\n",
    "        \"bs4\"\n",
    "    ],\n",
    "    planning_interval=5,\n",
    "    verbosity_level=2,\n",
    "    final_answer_checks=[check_reasoning_and_plot],\n",
    "    max_steps=15,\n",
    ")"
   ]
  },
  {
   "cell_type": "code",
   "execution_count": null,
   "id": "d2731030",
   "metadata": {},
   "outputs": [],
   "source": [
    "manager_agent.visualize()"
   ]
  },
  {
   "cell_type": "code",
   "execution_count": null,
   "id": "636daf43",
   "metadata": {},
   "outputs": [],
   "source": [
    "manager_agent.run(\"\"\"\n",
    "Find all Batman filming locations in the world, calculate the time to transfer via cargo plane to here (we're in Gotham, 40.7128° N, 74.0060° W).\n",
    "Also give me some supercar factories with the same cargo plane transfer time. You need at least 6 points in total.\n",
    "Represent this as spatial map of the world, with the locations represented as scatter points with a color that depends on the travel time, and save it to saved_map.png!\n",
    "\n",
    "Here's an example of how to plot and return a map:\n",
    "import plotly.express as px\n",
    "df = px.data.carshare()\n",
    "fig = px.scatter_map(df, lat=\"centroid_lat\", lon=\"centroid_lon\", text=\"name\", color=\"peak_hour\", size=100,\n",
    "     color_continuous_scale=px.colors.sequential.Magma, size_max=15, zoom=1)\n",
    "fig.show()\n",
    "fig.write_image(\"saved_image.png\")\n",
    "final_answer(fig)\n",
    "\n",
    "Never try to process strings using code: when you have a string to read, just print it and you'll see it.\n",
    "\"\"\")"
   ]
  },
  {
   "cell_type": "code",
   "execution_count": null,
   "id": "c1deaf05",
   "metadata": {},
   "outputs": [],
   "source": [
    "manager_agent.run(\"\"\"Hi, My name is John, I am looking for a holiday destination in Northern West Benagal, India. I am currently in Kolkata, India.\n",
    "I prefer a quite hill station with lots of woods. I own a car, so I will driver there. I have a budget of 5000 INR per night for accomodation, food and sight-seeing.\n",
    "I will keep the travel expense separate. Find me 3 good destination with their travel distance from Kolkata.\n",
    "DO NOT USE GENERATE FACTS FROM EXISTING KNOWLEDGE BASE. DO NOT USE HYPOTHETICAL FACTS. CALCULATE DISTANCE USING PROVIDED TOOLS.\n",
    "Also consider that currently petrol price is 100 INR per litre and my car gives 15 km per litre mileage. Then calculate the maximum expense for a 5 day trip.\n",
    "In maximum expense you can consider the daily budget as daily expense.\n",
    "Try to keep the calculation as accurate as possible, but don't worry about the exact number. Try to use the provided tools to find the information.\n",
    "\"\"\")"
   ]
  },
  {
   "cell_type": "code",
   "execution_count": null,
   "id": "0470fd3c",
   "metadata": {},
   "outputs": [],
   "source": []
  }
 ],
 "metadata": {
  "kernelspec": {
   "display_name": "Python 3",
   "language": "python",
   "name": "python3"
  },
  "language_info": {
   "codemirror_mode": {
    "name": "ipython",
    "version": 3
   },
   "file_extension": ".py",
   "mimetype": "text/x-python",
   "name": "python",
   "nbconvert_exporter": "python",
   "pygments_lexer": "ipython3",
   "version": "3.13.3"
  }
 },
 "nbformat": 4,
 "nbformat_minor": 5
}
