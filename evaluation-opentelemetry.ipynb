{
 "cells": [
  {
   "cell_type": "code",
   "execution_count": null,
   "id": "2673225e",
   "metadata": {},
   "outputs": [],
   "source": [
    "import os\n",
    "from my_config import LANGFUSE_AUTH, OTEL_EXPORTER_OTLP_ENDPOINT, HF_TOKEN\n",
    "\n",
    "\n",
    "os.environ[\"OTEL_EXPORTER_OTLP_ENDPOINT\"] = OTEL_EXPORTER_OTLP_ENDPOINT\n",
    "os.environ[\"OTEL_EXPORTER_OTLP_HEADERS\"] = f\"Authorization=Basic {LANGFUSE_AUTH}\"\n",
    "# your Hugging Face token\n",
    "os.environ[\"HF_TOKEN\"] = HF_TOKEN"
   ]
  },
  {
   "cell_type": "markdown",
   "id": "11f6e3ec",
   "metadata": {},
   "source": [
    "### Initialize the SmolagentsInstrumentor\n",
    "Initialize the `SmolagentsInstrumentor` before your application code. Configure `tracer_provider` and add a span processor to export traces to Langfuse. `OTLPSpanExporter()` uses the endpoint and headers from the environment variables."
   ]
  },
  {
   "cell_type": "code",
   "execution_count": null,
   "id": "d3a686f5",
   "metadata": {},
   "outputs": [],
   "source": [
    "from opentelemetry.sdk.trace import TracerProvider\n",
    "\n",
    "from openinference.instrumentation.smolagents import SmolagentsInstrumentor\n",
    "from opentelemetry.exporter.otlp.proto.http.trace_exporter import OTLPSpanExporter\n",
    "from opentelemetry.sdk.trace.export import SimpleSpanProcessor\n",
    "\n",
    "trace_provider = TracerProvider()\n",
    "trace_provider.add_span_processor(SimpleSpanProcessor(OTLPSpanExporter()))\n",
    "\n",
    "SmolagentsInstrumentor().instrument(tracer_provider=trace_provider)"
   ]
  },
  {
   "cell_type": "markdown",
   "id": "6d642664",
   "metadata": {},
   "source": [
    "### Run Smolagent"
   ]
  },
  {
   "cell_type": "code",
   "execution_count": null,
   "id": "e74f6971",
   "metadata": {},
   "outputs": [],
   "source": [
    "from huggingface_hub import login\n",
    "login(token=\"\")"
   ]
  },
  {
   "cell_type": "code",
   "execution_count": null,
   "id": "e4aaed8d",
   "metadata": {},
   "outputs": [],
   "source": [
    "from smolagents import CodeAgent, DuckDuckGoSearchTool, LiteLLMModel, HfApiModel\n",
    "remote_url = \"http://{}:11434\"\n",
    "model = LiteLLMModel(\n",
    "    base_url=remote_url\n",
    "    , model_id='ollama/qwen2.5-coder:7b'\n",
    "    # , model_id='ollama/llama3.2:latest'\n",
    ")\n"
   ]
  },
  {
   "cell_type": "code",
   "execution_count": null,
   "id": "d0edaabf",
   "metadata": {},
   "outputs": [],
   "source": [
    "from smolagents import CodeAgent, DuckDuckGoSearchTool, VisitWebpageTool, FinalAnswerTool\n",
    "from my_tools import suggest_menu, catering_service_tool, SuperheroPartyThemeTool\n",
    "# Alfred, the butler, preparing the menu for the party\n",
    "agent = CodeAgent(\n",
    "    tools=[\n",
    "        DuckDuckGoSearchTool(),\n",
    "        VisitWebpageTool(),\n",
    "        suggest_menu,\n",
    "        catering_service_tool,\n",
    "        SuperheroPartyThemeTool(),\n",
    "        FinalAnswerTool()\n",
    "        ],\n",
    "    model=model,\n",
    "    max_steps=10,\n",
    "    verbosity_level=2\n",
    ")\n"
   ]
  },
  {
   "cell_type": "code",
   "execution_count": null,
   "id": "b7381bfe",
   "metadata": {},
   "outputs": [],
   "source": [
    "agent.run(\"\"\"\n",
    "    Give me theh best list songs for a party at the Wayne's mansion. The party idea is a 'villain masquerade' theme.\n",
    "    The output should be a list of song names and artists.\n",
    "\"\"\")"
   ]
  },
  {
   "cell_type": "markdown",
   "id": "c1be1065",
   "metadata": {},
   "source": [
    "## Tool Calling Agent"
   ]
  },
  {
   "cell_type": "code",
   "execution_count": null,
   "id": "25c7032b",
   "metadata": {},
   "outputs": [],
   "source": [
    "from smolagents import ToolCallingAgent, DuckDuckGoSearchTool\n",
    "\n",
    "agent = ToolCallingAgent(\n",
    "    tools=[DuckDuckGoSearchTool()]\n",
    "    , model=model\n",
    "    , max_steps=5\n",
    "    , verbosity_level=2\n",
    ")\n",
    "\n",
    "agent.run(\"Search for the best music recommendations for a party at the Wayne's mansion.\")"
   ]
  },
  {
   "cell_type": "code",
   "execution_count": null,
   "id": "05fdc973",
   "metadata": {},
   "outputs": [],
   "source": []
  }
 ],
 "metadata": {
  "kernelspec": {
   "display_name": "Python 3",
   "language": "python",
   "name": "python3"
  },
  "language_info": {
   "codemirror_mode": {
    "name": "ipython",
    "version": 3
   },
   "file_extension": ".py",
   "mimetype": "text/x-python",
   "name": "python",
   "nbconvert_exporter": "python",
   "pygments_lexer": "ipython3",
   "version": "3.13.3"
  }
 },
 "nbformat": 4,
 "nbformat_minor": 5
}
