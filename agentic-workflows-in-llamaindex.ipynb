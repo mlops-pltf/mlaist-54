{
 "cells": [
  {
   "cell_type": "markdown",
   "id": "de7e7478",
   "metadata": {},
   "source": [
    "## Creating agentic workflows in LlamaIndex"
   ]
  },
  {
   "cell_type": "markdown",
   "id": "05c9fc72",
   "metadata": {},
   "source": [
    "### Creating Workflows\n",
    "#### Basic Workflow creation"
   ]
  },
  {
   "cell_type": "code",
   "execution_count": 2,
   "id": "0005393c",
   "metadata": {},
   "outputs": [
    {
     "data": {
      "text/plain": [
       "'Hello, world!'"
      ]
     },
     "execution_count": 2,
     "metadata": {},
     "output_type": "execute_result"
    }
   ],
   "source": [
    "from llama_index.core.workflow import StartEvent, StopEvent, Workflow, step\n",
    "\n",
    "class MyWorkflow(Workflow):\n",
    "    @step\n",
    "    async def my_step(self, ev: StartEvent) -> StopEvent:\n",
    "        # do something here\n",
    "        return StopEvent(result=\"Hello, world!\")\n",
    "\n",
    "w = MyWorkflow(timeout=10, verbose=False)\n",
    "result = await w.run()\n",
    "result"
   ]
  },
  {
   "cell_type": "markdown",
   "id": "59e9a3bd",
   "metadata": {},
   "source": [
    "#### Connecting Multiple Steps\n",
    "To connect multiple steps, we **create custom events that carry data between steps**. To do so, we need to add an `Event` that is passed between the steps and transfers the output of the first step to the second step."
   ]
  },
  {
   "cell_type": "code",
   "execution_count": 4,
   "id": "69e2388a",
   "metadata": {},
   "outputs": [
    {
     "name": "stdout",
     "output_type": "stream",
     "text": [
      "Step 1 complete\n"
     ]
    },
    {
     "data": {
      "text/plain": [
       "'Finished processing: Step 1 complete'"
      ]
     },
     "execution_count": 4,
     "metadata": {},
     "output_type": "execute_result"
    }
   ],
   "source": [
    "from llama_index.core.workflow import Event\n",
    "\n",
    "class ProcessingEvent(Event):\n",
    "    intermediate_result: str\n",
    "\n",
    "class MultiStepWorkflow(Workflow):\n",
    "    @step\n",
    "    async def step_one(self, ev: StartEvent) -> ProcessingEvent:\n",
    "        # Process initial data\n",
    "        print(\"Step 1 complete\")\n",
    "        return ProcessingEvent(intermediate_result=\"Step 1 complete\")\n",
    "\n",
    "    @step\n",
    "    async def step_two(self, ev: ProcessingEvent) -> StopEvent:\n",
    "        # Use the intermediate result\n",
    "        final_result = f\"Finished processing: {ev.intermediate_result}\"\n",
    "        return StopEvent(result=final_result)\n",
    "\n",
    "w = MultiStepWorkflow(timeout=10, verbose=False)\n",
    "result = await w.run()\n",
    "result"
   ]
  },
  {
   "cell_type": "markdown",
   "id": "ca287141",
   "metadata": {},
   "source": [
    "#### Loops and Branches"
   ]
  },
  {
   "cell_type": "code",
   "execution_count": 5,
   "id": "57c9122c",
   "metadata": {},
   "outputs": [
    {
     "ename": "TypeError",
     "evalue": "unsupported operand type(s) for |: 'ModelMetaclass' and 'ModelMetaclass'",
     "output_type": "error",
     "traceback": [
      "\u001b[0;31m---------------------------------------------------------------------------\u001b[0m",
      "\u001b[0;31mTypeError\u001b[0m                                 Traceback (most recent call last)",
      "Cell \u001b[0;32mIn[5], line 13\u001b[0m\n\u001b[1;32m      9\u001b[0m \u001b[38;5;28;01mclass\u001b[39;00m\u001b[38;5;250m \u001b[39m\u001b[38;5;21;01mLoopEvent\u001b[39;00m(Event):\n\u001b[1;32m     10\u001b[0m     loop_output: \u001b[38;5;28mstr\u001b[39m\n\u001b[0;32m---> 13\u001b[0m \u001b[38;5;28;01mclass\u001b[39;00m\u001b[38;5;250m \u001b[39m\u001b[38;5;21;01mMultiStepWorkflow\u001b[39;00m(Workflow):\n\u001b[1;32m     14\u001b[0m     \u001b[38;5;129m@step\u001b[39m\n\u001b[1;32m     15\u001b[0m     \u001b[38;5;28;01masync\u001b[39;00m \u001b[38;5;28;01mdef\u001b[39;00m\u001b[38;5;250m \u001b[39m\u001b[38;5;21mstep_one\u001b[39m(\u001b[38;5;28mself\u001b[39m, ev: StartEvent \u001b[38;5;241m|\u001b[39m LoopEvent) \u001b[38;5;241m-\u001b[39m\u001b[38;5;241m>\u001b[39m ProcessingEvent \u001b[38;5;241m|\u001b[39m LoopEvent:\n\u001b[1;32m     16\u001b[0m         \u001b[38;5;28;01mif\u001b[39;00m random\u001b[38;5;241m.\u001b[39mrandint(\u001b[38;5;241m0\u001b[39m, \u001b[38;5;241m1\u001b[39m) \u001b[38;5;241m==\u001b[39m \u001b[38;5;241m0\u001b[39m:\n",
      "Cell \u001b[0;32mIn[5], line 15\u001b[0m, in \u001b[0;36mMultiStepWorkflow\u001b[0;34m()\u001b[0m\n\u001b[1;32m     13\u001b[0m \u001b[38;5;28;01mclass\u001b[39;00m\u001b[38;5;250m \u001b[39m\u001b[38;5;21;01mMultiStepWorkflow\u001b[39;00m(Workflow):\n\u001b[1;32m     14\u001b[0m     \u001b[38;5;129m@step\u001b[39m\n\u001b[0;32m---> 15\u001b[0m     \u001b[38;5;28;01masync\u001b[39;00m \u001b[38;5;28;01mdef\u001b[39;00m\u001b[38;5;250m \u001b[39m\u001b[38;5;21mstep_one\u001b[39m(\u001b[38;5;28mself\u001b[39m, ev: StartEvent \u001b[38;5;241m|\u001b[39m LoopEvent) \u001b[38;5;241m-\u001b[39m\u001b[38;5;241m>\u001b[39m ProcessingEvent \u001b[38;5;241m|\u001b[39m LoopEvent:\n\u001b[1;32m     16\u001b[0m         \u001b[38;5;28;01mif\u001b[39;00m random\u001b[38;5;241m.\u001b[39mrandint(\u001b[38;5;241m0\u001b[39m, \u001b[38;5;241m1\u001b[39m) \u001b[38;5;241m==\u001b[39m \u001b[38;5;241m0\u001b[39m:\n\u001b[1;32m     17\u001b[0m             \u001b[38;5;28mprint\u001b[39m(\u001b[38;5;124m\"\u001b[39m\u001b[38;5;124mBad thing happened\u001b[39m\u001b[38;5;124m\"\u001b[39m)\n",
      "\u001b[0;31mTypeError\u001b[0m: unsupported operand type(s) for |: 'ModelMetaclass' and 'ModelMetaclass'"
     ]
    }
   ],
   "source": [
    "from llama_index.core.workflow import Event\n",
    "import random\n",
    "\n",
    "\n",
    "class ProcessingEvent(Event):\n",
    "    intermediate_result: str\n",
    "\n",
    "\n",
    "class LoopEvent(Event):\n",
    "    loop_output: str\n",
    "\n",
    "\n",
    "class MultiStepWorkflow(Workflow):\n",
    "    @step\n",
    "    async def step_one(self, ev: StartEvent | LoopEvent) -> ProcessingEvent | LoopEvent:\n",
    "        if random.randint(0, 1) == 0:\n",
    "            print(\"Bad thing happened\")\n",
    "            return LoopEvent(loop_output=\"Back to step one.\")\n",
    "        else:\n",
    "            print(\"Good thing happened\")\n",
    "            return ProcessingEvent(intermediate_result=\"First step complete.\")\n",
    "\n",
    "    @step\n",
    "    async def step_two(self, ev: ProcessingEvent) -> StopEvent:\n",
    "        # Use the intermediate result\n",
    "        final_result = f\"Finished processing: {ev.intermediate_result}\"\n",
    "        return StopEvent(result=final_result)\n",
    "\n",
    "\n",
    "w = MultiStepWorkflow(verbose=False)\n",
    "result = await w.run()\n",
    "result"
   ]
  },
  {
   "cell_type": "markdown",
   "id": "ecc70929",
   "metadata": {},
   "source": []
  },
  {
   "cell_type": "markdown",
   "id": "d37f7688",
   "metadata": {},
   "source": [
    "#### State Management"
   ]
  },
  {
   "cell_type": "code",
   "execution_count": null,
   "id": "ef839d36",
   "metadata": {},
   "outputs": [],
   "source": [
    "from llama_index.core.workflow import Context, StartEvent, StopEvent\n",
    "\n",
    "\n",
    "@step\n",
    "async def query(self, ctx: Context, ev: StartEvent) -> StopEvent:\n",
    "    # store query in the context\n",
    "    await ctx.set(\"query\", \"What is the capital of France?\")\n",
    "\n",
    "    # do something with context and event\n",
    "    val = ...\n",
    "\n",
    "    # retrieve query from the context\n",
    "    query = await ctx.get(\"query\")\n",
    "\n",
    "    return StopEvent(result=val)"
   ]
  },
  {
   "cell_type": "markdown",
   "id": "b2fd3ee2",
   "metadata": {},
   "source": []
  }
 ],
 "metadata": {
  "kernelspec": {
   "display_name": ".venv",
   "language": "python",
   "name": "python3"
  },
  "language_info": {
   "codemirror_mode": {
    "name": "ipython",
    "version": 3
   },
   "file_extension": ".py",
   "mimetype": "text/x-python",
   "name": "python",
   "nbconvert_exporter": "python",
   "pygments_lexer": "ipython3",
   "version": "3.9.6"
  }
 },
 "nbformat": 4,
 "nbformat_minor": 5
}
