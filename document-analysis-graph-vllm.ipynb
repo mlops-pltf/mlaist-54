{
 "cells": [
  {
   "cell_type": "code",
   "execution_count": 3,
   "id": "d8939b0f",
   "metadata": {},
   "outputs": [
    {
     "name": "stdout",
     "output_type": "stream",
     "text": [
      "\n",
      "\u001b[1m[\u001b[0m\u001b[34;49mnotice\u001b[0m\u001b[1;39;49m]\u001b[0m\u001b[39;49m A new release of pip is available: \u001b[0m\u001b[31;49m23.0.1\u001b[0m\u001b[39;49m -> \u001b[0m\u001b[32;49m25.1.1\u001b[0m\n",
      "\u001b[1m[\u001b[0m\u001b[34;49mnotice\u001b[0m\u001b[1;39;49m]\u001b[0m\u001b[39;49m To update, run: \u001b[0m\u001b[32;49mpip install --upgrade pip\u001b[0m\n",
      "Note: you may need to restart the kernel to use updated packages.\n",
      "\n",
      "\u001b[1m[\u001b[0m\u001b[34;49mnotice\u001b[0m\u001b[1;39;49m]\u001b[0m\u001b[39;49m A new release of pip is available: \u001b[0m\u001b[31;49m23.0.1\u001b[0m\u001b[39;49m -> \u001b[0m\u001b[32;49m25.1.1\u001b[0m\n",
      "\u001b[1m[\u001b[0m\u001b[34;49mnotice\u001b[0m\u001b[1;39;49m]\u001b[0m\u001b[39;49m To update, run: \u001b[0m\u001b[32;49mpip install --upgrade pip\u001b[0m\n",
      "Note: you may need to restart the kernel to use updated packages.\n"
     ]
    }
   ],
   "source": [
    "%pip install -q -U langchain_openai langchain_core langgraph langfuse\n",
    "%pip install -q -U -r requirements.txt"
   ]
  },
  {
   "cell_type": "markdown",
   "id": "0f1bb24d",
   "metadata": {},
   "source": [
    "## Langfuse Tracing"
   ]
  },
  {
   "cell_type": "code",
   "execution_count": 19,
   "id": "63837379",
   "metadata": {},
   "outputs": [],
   "source": [
    "from my_utils import setup_langfuse_tracer\n",
    "from my_config import MyConfig\n",
    "\n",
    "langfuse_handler = setup_langfuse_tracer()\n",
    "my_config = MyConfig()"
   ]
  },
  {
   "cell_type": "markdown",
   "id": "bd39a713",
   "metadata": {},
   "source": [
    "## OpenAI Authentication"
   ]
  },
  {
   "cell_type": "code",
   "execution_count": 20,
   "id": "37a7f827",
   "metadata": {},
   "outputs": [],
   "source": [
    "import os\n",
    "\n",
    "# Please setp your own key.\n",
    "os.environ[\"OPENAI_API_KEY\"] = my_config.OPENAI_API_KEY"
   ]
  },
  {
   "cell_type": "markdown",
   "id": "1a94605e",
   "metadata": {},
   "source": [
    "## Get the LLM Models"
   ]
  },
  {
   "cell_type": "code",
   "execution_count": 34,
   "id": "bc6dd88e",
   "metadata": {},
   "outputs": [],
   "source": [
    "from langchain_openai import ChatOpenAI\n",
    "\n",
    "openai_api_base = f\"http://{my_config.VLLM_INFERENCE_NODE_IP}:8000/v1\"\n",
    "llm = ChatOpenAI(\n",
    "    base_url=openai_api_base\n",
    "    , api_key=\"EMPTY\"\n",
    "    , model=\"ibm-granite/granite-3.2-2b-instruct\"\n",
    ")"
   ]
  },
  {
   "cell_type": "markdown",
   "id": "c8d5fcbe",
   "metadata": {},
   "source": [
    "## Define the Tools"
   ]
  },
  {
   "cell_type": "code",
   "execution_count": 36,
   "id": "d289dde1",
   "metadata": {},
   "outputs": [],
   "source": [
    "from langchain_core.messages import HumanMessage\n",
    "\n",
    "def detect_weather(time_of_day: str) -> str:\n",
    "    \"\"\"\n",
    "    Detect the weather condition based on the time of day.\n",
    "\n",
    "    Args:\n",
    "        time_of_day: A string representing the time of day (e.g., \"morning\", \"afternoon\", \"evening\").\n",
    "\n",
    "    Returns:\n",
    "        A string describing the expected weather condition.\n",
    "    \"\"\"\n",
    "    try:\n",
    "        if time_of_day == \"morning\":\n",
    "            return \"The weather is expected to be sunny with a chance of light clouds.\"\n",
    "        elif time_of_day == \"afternoon\":\n",
    "            return \"The weather is expected to be warm and sunny.\"\n",
    "        elif time_of_day == \"evening\":\n",
    "            return \"Heavey thunderstorm is expected with a chance of rain.\"\n",
    "        else:\n",
    "            return \"Unknown time of day.\"\n",
    "    except Exception as e:\n",
    "        # You can choose whether to raise or just return an empty string / error message\n",
    "        error_msg = f\"Error extracting text: {str(e)}\"\n",
    "        print(error_msg)\n",
    "        return \"\"\n",
    "    \n",
    "\n",
    "def divide(a: int, b: int) -> float:\n",
    "    \"\"\"Divide a and b.\"\"\"\n",
    "    return a / b"
   ]
  },
  {
   "cell_type": "markdown",
   "id": "9d609755",
   "metadata": {},
   "source": [
    "## Bind tools to LLM"
   ]
  },
  {
   "cell_type": "code",
   "execution_count": 37,
   "id": "7d4fe9e2",
   "metadata": {},
   "outputs": [],
   "source": [
    "tools = [\n",
    "    divide,\n",
    "    detect_weather\n",
    "]\n",
    "llm_with_tools = llm.bind_tools(tools, parallel_tool_calls=False)"
   ]
  },
  {
   "cell_type": "markdown",
   "id": "9c11d047",
   "metadata": {},
   "source": [
    "## Defining Agent's State\n",
    "This state is a little more complex than the previous ones we have seen. AnyMessage is a class from Langchain that defines messages, and add_messages is an operator that adds the latest message rather than overwriting it with the latest state.\n",
    "\n",
    "This is a new concept in LangGraph, where you can add operators in your state to define the way they should interact together."
   ]
  },
  {
   "cell_type": "code",
   "execution_count": 50,
   "id": "6bc170de",
   "metadata": {},
   "outputs": [],
   "source": [
    "from typing import TypedDict, Annotated, Optional\n",
    "from langchain_core.messages import AnyMessage\n",
    "from langgraph.graph.message import add_messages\n",
    "\n",
    "class AgentState(TypedDict):\n",
    "    # The document provided\n",
    "    messages: Annotated[list[AnyMessage], add_messages]"
   ]
  },
  {
   "cell_type": "markdown",
   "id": "e542ff84",
   "metadata": {},
   "source": [
    "## The nodes"
   ]
  },
  {
   "cell_type": "code",
   "execution_count": 51,
   "id": "1f760376",
   "metadata": {},
   "outputs": [],
   "source": [
    "from langchain_core.messages import SystemMessage\n",
    "\n",
    "def assistant(state: AgentState):\n",
    "    # System message\n",
    "    textual_description_of_tool=\"\"\"\n",
    "detect_weather(time_of_day: str) -> str:\n",
    "    Detect the weather condition based on the time of day.\n",
    "\n",
    "    Args:\n",
    "        time_of_day: A string representing the time of day (e.g., \"morning\", \"afternoon\", \"evening\").\n",
    "\n",
    "    Returns:\n",
    "        A string describing the expected weather condition.\n",
    "\n",
    "divide(a: int, b: int) -> float:\n",
    "    Divide a and b\n",
    "    Args:\n",
    "        a: The numerator (int).\n",
    "        b: The denominator (int).\n",
    "    Returns:\n",
    "        The result of the division (float).\n",
    "\"\"\"\n",
    "    sys_msg = SystemMessage(content=f\"You are a helpful butler named Alfred that serves Mr. Wayne and Batman. You can take calcualted decisions based on the tools available to you. You can use the following tools:\\n\\n{textual_description_of_tool}. Think step by step and use the tools only when necessary. If you need to use a tool, you must first explain why you need to use it.\")\n",
    "\n",
    "    return {\n",
    "        \"messages\": [llm_with_tools.invoke([sys_msg] + state[\"messages\"])]\n",
    "    }"
   ]
  },
  {
   "cell_type": "markdown",
   "id": "b6ce9aa9",
   "metadata": {},
   "source": [
    "## The ReAct Pattern: How I Assist Mr. Wayne\n",
    "Allow me to explain the approach in this agent. The agent follows what’s known as the ReAct pattern (Reason-Act-Observe)\n",
    "\n",
    "1. **Reason** about his documents and requests\n",
    "2. **Act** by using appropriate tools\n",
    "3. **Observe** the results\n",
    "4. **Repeat** as necessary until I’ve fully addressed his needs"
   ]
  },
  {
   "cell_type": "code",
   "execution_count": 52,
   "id": "52c132dd",
   "metadata": {},
   "outputs": [
    {
     "data": {
      "image/png": "[encoded data removed]",
      "text/plain": [
       "<IPython.core.display.Image object>"
      ]
     },
     "metadata": {},
     "output_type": "display_data"
    }
   ],
   "source": [
    "from langgraph.graph import START, StateGraph\n",
    "from langgraph.prebuilt import ToolNode, tools_condition\n",
    "from IPython.display import Image, display\n",
    "\n",
    "# The graph\n",
    "builder = StateGraph(AgentState)\n",
    "\n",
    "# Define nodes: these do the work\n",
    "builder.add_node(\"assistant\", assistant)\n",
    "builder.add_node(\"tools\", ToolNode(tools))\n",
    "\n",
    "# Define edges: these determine how the control flow moves\n",
    "builder.add_edge(START, \"assistant\")\n",
    "builder.add_conditional_edges(\n",
    "    \"assistant\",\n",
    "    # If the latest message requires a tool, route to tools\n",
    "    # Otherwise, provide a direct response\n",
    "    tools_condition,\n",
    ")\n",
    "builder.add_edge(\"tools\", \"assistant\")\n",
    "react_graph = builder.compile()\n",
    "\n",
    "# Show the butler's thought process\n",
    "display(Image(react_graph.get_graph(xray=True).draw_mermaid_png()))"
   ]
  },
  {
   "cell_type": "markdown",
   "id": "c714b8af",
   "metadata": {},
   "source": [
    "We define a tools node with our list of tools. The assistant node is just our model with bound tools. We create a graph with assistant and tools nodes.\n",
    "\n",
    "We add a tools_condition edge, which routes to End or to tools based on whether the assistant calls a tool.\n",
    "\n",
    "Now, we add one new step:\n",
    "\n",
    "We connect the tools node back to the assistant, forming a loop.\n",
    "\n",
    "- After the assistant node executes, tools_condition checks if the model’s output is a tool call.\n",
    "- If it is a tool call, the flow is directed to the tools node.\n",
    "- The tools node connects back to assistant.\n",
    "- This loop continues as long as the model decides to call tools.\n",
    "- If the model response is not a tool call, the flow is directed to END, terminating the process."
   ]
  },
  {
   "cell_type": "markdown",
   "id": "e9f7c3b8",
   "metadata": {},
   "source": [
    "## The Butler in Action\n",
    "### Example 1: Simple Calculations\n",
    "\n",
    "Here is an example to show a simple use case of an agent using a tool in LangGraph."
   ]
  },
  {
   "cell_type": "code",
   "execution_count": 53,
   "id": "05559cf5",
   "metadata": {},
   "outputs": [
    {
     "name": "stdout",
     "output_type": "stream",
     "text": [
      "================================\u001b[1m Human Message \u001b[0m=================================\n",
      "\n",
      "Divide 6790 by 5\n",
      "==================================\u001b[1m Ai Message \u001b[0m==================================\n",
      "Tool Calls:\n",
      "  divide (chatcmpl-tool-537a914951fd46feb047491ce46a1f8b)\n",
      " Call ID: chatcmpl-tool-537a914951fd46feb047491ce46a1f8b\n",
      "  Args:\n",
      "    a: 6790\n",
      "    b: 5\n",
      "=================================\u001b[1m Tool Message \u001b[0m=================================\n",
      "Name: divide\n",
      "\n",
      "1358.0\n",
      "==================================\u001b[1m Ai Message \u001b[0m==================================\n",
      "\n",
      "I divided 6790 by 5. The result is 1358.0.\n"
     ]
    }
   ],
   "source": [
    "messages = [HumanMessage(content=\"Divide 6790 by 5\")]\n",
    "messages = react_graph.invoke(\n",
    "    {\n",
    "        \"messages\": messages\n",
    "    }\n",
    "    , config={\"callbacks\": [langfuse_handler]}\n",
    ")\n",
    "# Show the messages\n",
    "for m in messages['messages']:\n",
    "    m.pretty_print()"
   ]
  },
  {
   "cell_type": "markdown",
   "id": "a5d7a2d3",
   "metadata": {},
   "source": [
    "### Example 2: Analyzing Master Wayne’s Training Documents\n",
    "When Master Wayne leaves his training and meal notes:"
   ]
  },
  {
   "cell_type": "code",
   "execution_count": 58,
   "id": "e37e2f30",
   "metadata": {},
   "outputs": [
    {
     "name": "stdout",
     "output_type": "stream",
     "text": [
      "================================\u001b[1m Human Message \u001b[0m=================================\n",
      "\n",
      "Alfred, should I take an umbrella while I go for my dinner date in the EVENING? Use the provided tools to answer the question.\n",
      "==================================\u001b[1m Ai Message \u001b[0m==================================\n",
      "\n",
      "Based on the provided tools and the current time of day (assuming evening for this context), the weather information tool won't be utilized here as I don't have the exact current time. However, generally speaking, evening conditions can range from mild to quite cool, and occasional rain or even sun showers aren't uncommon. Since an umbrella can protect from both rain and chills, a safe choice would be to carry one. Now, if you need the precise weather forecast for your specific location during the evening, I might be able to assist further with the detect_weather function.\n"
     ]
    }
   ],
   "source": [
    "messages = [HumanMessage(content=\"Alfred, should I take an umbrella while I go for my dinner date in the EVENING? Use the provided tools to answer the question.\")]\n",
    "response = react_graph.invoke(\n",
    "    {\n",
    "        \"messages\": messages\n",
    "        , \"input_file\": None\n",
    "    }\n",
    "    , config={\"callbacks\": [langfuse_handler]}\n",
    ")\n",
    "# Show the messages\n",
    "for m in response['messages']:\n",
    "    m.pretty_print()"
   ]
  },
  {
   "cell_type": "code",
   "execution_count": null,
   "id": "7ddce2e5",
   "metadata": {},
   "outputs": [],
   "source": []
  }
 ],
 "metadata": {
  "kernelspec": {
   "display_name": ".venv",
   "language": "python",
   "name": "python3"
  },
  "language_info": {
   "codemirror_mode": {
    "name": "ipython",
    "version": 3
   },
   "file_extension": ".py",
   "mimetype": "text/x-python",
   "name": "python",
   "nbconvert_exporter": "python",
   "pygments_lexer": "ipython3",
   "version": "3.9.21"
  }
 },
 "nbformat": 4,
 "nbformat_minor": 5
}
